{
 "cells": [
  {
   "cell_type": "code",
   "execution_count": 12,
   "metadata": {},
   "outputs": [
    {
     "name": "stdout",
     "output_type": "stream",
     "text": [
      "\n",
      " estos deberian ser los datos antes de normalizarlos [[0.0e+00 1.0e+00 1.0e+00 ... 0.0e+00 5.0e-02 0.0e+00]\n",
      " [0.0e+00 2.0e+00 2.0e+00 ... 0.0e+00 0.0e+00 0.0e+00]\n",
      " [0.0e+00 1.0e+00 3.0e+00 ... 1.0e+00 0.0e+00 0.0e+00]\n",
      " ...\n",
      " [0.0e+00 1.0e+00 3.0e+00 ... 0.0e+00 1.0e+00 1.0e+00]\n",
      " [0.0e+00 1.0e+00 5.5e+01 ... 1.0e+00 0.0e+00 0.0e+00]\n",
      " [0.0e+00 1.0e+00 1.1e+01 ... 1.0e+00 0.0e+00 0.0e+00]]\n",
      "\n",
      " estos deberian ser los datos normalizados [[0.1        0.1        0.1        ... 0.1        0.1        0.1       ]\n",
      " [0.1        0.1        0.1        ... 0.1        0.1        0.1       ]\n",
      " [0.10000003 0.10000003 0.10000003 ... 0.10000003 0.10000003 0.10000003]\n",
      " ...\n",
      " [0.         0.         0.         ... 0.         0.         0.        ]\n",
      " [0.         0.         0.         ... 0.         0.         0.        ]\n",
      " [0.         0.         0.         ... 0.         0.         0.        ]]\n",
      "[ 1  1 -1 ... -1 -1 -1]\n",
      "[[0.1        0.1        0.1        ... 0.1        0.1        0.1       ]\n",
      " [0.1        0.1        0.1        ... 0.1        0.1        0.1       ]\n",
      " [0.10000003 0.10000003 0.10000003 ... 0.10000003 0.10000003 0.10000003]\n",
      " ...\n",
      " [0.         0.         0.         ... 0.         0.         0.        ]\n",
      " [0.         0.         0.         ... 0.         0.         0.        ]\n",
      " [0.         0.         0.         ... 0.         0.         0.        ]]\n"
     ]
    }
   ],
   "source": [
    "(Xe, Ye, nC, L, particulas, max_iteraciones,C) = preproceso()"
   ]
  },
  {
   "cell_type": "code",
   "execution_count": 7,
   "metadata": {},
   "outputs": [],
   "source": [
    "import numpy as np\n",
    "import funciones as fp\n",
    "\n",
    "##Cambio de datos\n",
    "##Data[1]\n",
    "data1 = ['tcp', 'udp', 'icmp']  \n",
    "data2 = ['ftp_data', 'other', 'private', 'http', 'remote_job', 'name', 'netbios_ns', 'eco_i', 'mtp', 'telnet', 'finger', 'domain_u', 'supdup', 'uucp_path', 'Z39_50', 'smtp', 'csnet_ns', 'uucp', 'netbios_dgm', 'urp_i', 'auth', 'domain', 'ftp', 'bgp', 'ldap', 'ecr_i', 'gopher', 'vmnet', 'systat', 'http_443', 'efs', 'whois', 'imap4', 'iso_tsap', 'echo', 'klogin', 'link', 'sunrpc', 'login', 'kshell', 'sql_net', 'time', 'hostnames', 'exec', 'ntp_u', 'discard', 'nntp', 'courier', 'ctf', 'ssh', 'daytime', 'shell', 'netstat', 'pop_3', 'nnsp', 'IRC', 'pop_2', 'printer', 'tim_i', 'pm_dump', 'red_i', 'netbios_ssn', 'rje', 'X11', 'urh_i', 'http_8001']\n",
    "data3 = ['SF', 'S0', 'REJ', 'RSTR', 'SH', 'RSTO', 'S1', 'RSTOS0', 'S3', 'S2', 'OTH']\n",
    "data41 = ['normal', 'neptune', 'warezclient', 'ipsweep', 'portsweep', 'teardrop', 'nmap', 'satan', 'smurf', 'pod', 'back', 'guess_passwd', 'ftp_write', 'multihop', 'rootkit', 'buffer_overflow', 'imap', 'warezmaster', 'phf', 'land', 'loadmodule', 'spy']\n",
    "\n",
    "def transform (data,lista):\n",
    "    contador=0\n",
    "    if lista == 1:    \n",
    "        for i in data1:\n",
    "            if str(i) == data:\n",
    "                return contador+1\n",
    "            contador+=1\n",
    "    if lista == 2:\n",
    "        for i in data2:\n",
    "            if str(i) == data:\n",
    "                return contador+1\n",
    "            contador+=1\n",
    "    if lista == 3:\n",
    "        for i in data3:\n",
    "            if str(i) == data:\n",
    "                return contador+1\n",
    "            contador+=1\n",
    "    if lista == 4:\n",
    "        if str(data) != 'normal':\n",
    "            return -1\n",
    "        return 1"
   ]
  },
  {
   "cell_type": "code",
   "execution_count": 8,
   "metadata": {},
   "outputs": [],
   "source": [
    "def load_config():\n",
    "\tconfig = np.genfromtxt(\"configuracion.csv\", dtype=float, delimiter='\\n') \n",
    "\t#VECTOR[ ]\n",
    "\tnc=1\n",
    "\t#Nodos ocultos\n",
    "\tL=config[0]\n",
    "\t#Particulas\n",
    "\tparticulas=config[1]\n",
    "\t#Maximo de iteraciones\n",
    "\tmax_iteraciones=config[2]\n",
    "\t#Penalidad P inversa\n",
    "\tC=config[3]\n",
    "\treturn (nc,L,particulas,max_iteraciones,C)\n",
    "\t"
   ]
  },
  {
   "cell_type": "code",
   "execution_count": 9,
   "metadata": {},
   "outputs": [],
   "source": [
    "#param: dato[][]\n",
    "def Normalize_Xe(datos):\n",
    "    y = np.empty_like(datos)\n",
    "    \n",
    "    #x_min, x_max deben ser int, datos debe ser una matriz de int\n",
    "    x_min = np.min(datos)\n",
    "    x_max = np.max(datos)\n",
    "    print(\"\\n estos deberian ser los datos antes de normalizarlos\", datos)\n",
    "    for data in datos: \n",
    "        contador = 0\n",
    "        for i in data:\n",
    "            #aux=str(i);\n",
    "            x = i.astype(float)\n",
    "            y[contador] = (x-x_min)/(x_max-x_min)\n",
    "            #y[contador]=(0.99-0.1)*y[contador]+0.1\n",
    "            contador+=1\n",
    "    \n",
    "   # normal =np.linalg.norm(data_normal)\n",
    "   # print (normal)\n",
    "    print(\"\\n estos deberian ser los datos normalizados\", y)\n",
    "    \n",
    "    return y\n",
    "\n"
   ]
  },
  {
   "cell_type": "code",
   "execution_count": 10,
   "metadata": {},
   "outputs": [],
   "source": [
    "def to_readable(path,name):\n",
    "    datos = np.loadtxt(path, delimiter=',',dtype='str',usecols=(0,1,2,3,4,5,6,7,8,9,10,11,12,13,14,15,16,17,18,19,20,21,22,23,24,25,26,27,28,29,30,31,32,33,34,35,36,37,38,39,40))\n",
    "\n",
    "    #Se transforma todo a numeros enteros.\n",
    "    for data in datos:\n",
    "        contador=0\n",
    "        for i in data:\n",
    "            if contador == 1:\n",
    "                data[contador]=transform(str(i),1)\n",
    "            if contador == 2:\n",
    "                data[contador]=transform(str(i),2)\n",
    "            if contador == 3:\n",
    "                data[contador]=transform(str(i),3)\n",
    "            contador+=1\n",
    "    datos = datos.astype(np.float)\n",
    "    datos=Normalize_Xe(datos)\n",
    "    #Se escribe el archivo nuevo\n",
    "    np.savetxt(name, datos, delimiter=',')\n",
    "    \n",
    "    Y=np.loadtxt(path, delimiter=',',dtype='str',usecols=41)\n",
    "    Yee=[]\n",
    "    for data in Y:\n",
    "        if data != 'normal':\n",
    "            Yee.append(-1)\n",
    "        else:\n",
    "            Yee.append(1)\n",
    "    Ye=np.array(Yee)\n",
    "    return Ye\n"
   ]
  },
  {
   "cell_type": "code",
   "execution_count": 11,
   "metadata": {},
   "outputs": [],
   "source": [
    "def preproceso():\n",
    "    Ye=to_readable(\"KDDTrain+_20Percent.txt\",\"train.txt\")\n",
    "    Xe=np.loadtxt(\"train.txt\", delimiter=',',dtype='float', usecols=(0,1,2,3,4,5,6,7,8,9,10,11,12,13,14,15,16,17,18,19,20,21,22,23,24,25,26,27,28,29,30,31,32,33,34,35,36,37,38,39,40))\n",
    "    (nC,L,particulas,max_iteraciones,C)=load_config()\n",
    "    print (Ye)\n",
    "    print (Xe)\n",
    "    \n",
    "    return (Xe, Ye, nC, L, particulas, max_iteraciones,C)"
   ]
  },
  {
   "cell_type": "code",
   "execution_count": 131,
   "metadata": {},
   "outputs": [],
   "source": [
    "import math\n",
    "def random_w(L,Dim):\n",
    "    l=int(L)\n",
    "    w =np.empty([l+1,Dim])\n",
    "    for i in range (l+1):\n",
    "        contador = 0\n",
    "        #print(i)\n",
    "        for j in range(Dim):\n",
    "            r=math.sqrt(6/((L+1) + Dim))\n",
    "            #np.append(w, r)\n",
    "            w[i][j]=np.random.uniform(L,Dim)*2*r-r;\n",
    "            contador+=1\n",
    "    #int or float or something\n",
    "    return w"
   ]
  },
  {
   "cell_type": "code",
   "execution_count": 222,
   "metadata": {},
   "outputs": [],
   "source": [
    "def update_pesos(Xe,Ye,L,C):\n",
    "    #[Filas] \n",
    "    Dim=Xe.shape[0]\n",
    "    #[Columnas]\n",
    "    n=Xe.shape[1]\n",
    "    #print(n)\n",
    "    print(\"Xe shape 0: y 1\",Dim,n)\n",
    "    #Pesos\n",
    "    w1 =random_w(L,Dim)\n",
    "   # w1 = np.transpose(w1)\n",
    "    print(\"Dimensiones de los pesos w1:\", w1.shape[0],\" y \",w1.shape[1])\n",
    "    #print()\n",
    "    #Vector de pesos\n",
    "    bias =random_w(L,1)\n",
    "\n",
    "    print(\"Dimensiones de bias:\", bias.shape[0],\" y \",bias.shape[1])\n",
    "    #print(bias)\n",
    "    #print()\n",
    "    #Matriz de vector de pesos\n",
    "    biasMatrix =np.matlib.repmat(bias,1,n)\n",
    "    print(\"Dimensiones de biasMatrix:\", biasMatrix.shape[0],\" y \",biasMatrix.shape[1])\n",
    "\n",
    "    #print(biasMatrix)\n",
    "    z=np.dot(w1,Xe)+biasMatrix\n",
    "    print (Xe)\n",
    "    print(z)\n",
    "    H=activacion(Xe,w1)\n",
    "    \n",
    "    yh=Ye*H\n",
    "    print(\"Ye es igual a: \",Ye.shape[0])\n",
    "    print(\"H es igual a D: :\",H.shape[0])\n",
    "    hh=(H*np.transpose(H))+np.eye(int(L))/C\n",
    "    inv=np.linalg.pinv(hh)\n",
    "    w2=np.dot(yh,inv)\n",
    "    return(w1, bias, w2)"
   ]
  },
  {
   "cell_type": "code",
   "execution_count": 223,
   "metadata": {},
   "outputs": [],
   "source": [
    "def forward(xv, w1, bias, w2):\n",
    "    N= len(xv)\n",
    "    biasMatrix = np.matlib.repmat(bias,1,N)\n",
    "    z = w1*xv +biasMatrix\n",
    "    H = activacion(z);\n",
    "    z=w2*H;\n",
    "    return z"
   ]
  },
  {
   "cell_type": "code",
   "execution_count": 224,
   "metadata": {},
   "outputs": [],
   "source": [
    "def activacion(x,w):\n",
    "    print(\"Shape 0 x :\",x.shape[0])\n",
    "    print(\"Shape 1 x :\",x.shape[1])\n",
    "    print(\"Shape 0 w :\",w.shape[0])\n",
    "    print(\"Shape 1 w :\",w.shape[1])\n",
    "    aux = []\n",
    "    for i in range(x.shape[0]):\n",
    "        for j in range(w.shape[1]):\n",
    "           # print(\"x en activacion\",x[i])\n",
    "           # print(\"y en activacion\",w[:,j])\n",
    "            z=distancia_euclidiana(x[i],w[:,j])\n",
    "            H=np.cos(5*z)*np.exp(-0.5*z**2)\n",
    "            continue\n",
    "        return H"
   ]
  },
  {
   "cell_type": "code",
   "execution_count": 225,
   "metadata": {},
   "outputs": [],
   "source": [
    "def distancia_euclidiana(x,y):\n",
    "   # print (\"Range x 0 y Range y 0 :\",len(x),len(y))\n",
    "    #for i in \n",
    "    distancia = math.sqrt(sum([(a-b) ** 2 for a,b in zip(x,y)]))\n",
    "    return distancia"
   ]
  },
  {
   "cell_type": "code",
   "execution_count": 226,
   "metadata": {},
   "outputs": [
    {
     "name": "stdout",
     "output_type": "stream",
     "text": [
      "Xe shape 0: y 1 25192 41\n",
      "Dimensiones de los pesos w1: 41  y  25192\n",
      "Dimensiones de bias: 41  y  1\n",
      "Dimensiones de biasMatrix: 41  y  41\n",
      "[[0.1        0.1        0.1        ... 0.1        0.1        0.1       ]\n",
      " [0.1        0.1        0.1        ... 0.1        0.1        0.1       ]\n",
      " [0.10000003 0.10000003 0.10000003 ... 0.10000003 0.10000003 0.10000003]\n",
      " ...\n",
      " [0.         0.         0.         ... 0.         0.         0.        ]\n",
      " [0.         0.         0.         ... 0.         0.         0.        ]\n",
      " [0.         0.         0.         ... 0.         0.         0.        ]]\n",
      "[[1476.45521065 1476.45521065 1476.45521065 ... 1476.45521065\n",
      "  1476.45521065 1476.45521065]\n",
      " [1334.54495905 1334.54495905 1334.54495905 ... 1334.54495905\n",
      "  1334.54495905 1334.54495905]\n",
      " [1612.19578654 1612.19578654 1612.19578654 ... 1612.19578654\n",
      "  1612.19578654 1612.19578654]\n",
      " ...\n",
      " [1770.74705909 1770.74705909 1770.74705909 ... 1770.74705909\n",
      "  1770.74705909 1770.74705909]\n",
      " [1607.54006057 1607.54006057 1607.54006057 ... 1607.54006057\n",
      "  1607.54006057 1607.54006057]\n",
      " [1337.66402033 1337.66402033 1337.66402033 ... 1337.66402033\n",
      "  1337.66402033 1337.66402033]]\n",
      "Shape 0 x : 25192\n",
      "Shape 1 x : 41\n",
      "Shape 0 w : 41\n",
      "Shape 1 w : 25192\n",
      "Ye es igual a:  25192\n"
     ]
    },
    {
     "ename": "IndexError",
     "evalue": "tuple index out of range",
     "output_type": "error",
     "traceback": [
      "\u001b[1;31m---------------------------------------------------------------------------\u001b[0m",
      "\u001b[1;31mIndexError\u001b[0m                                Traceback (most recent call last)",
      "\u001b[1;32m<ipython-input-226-bd162462af7d>\u001b[0m in \u001b[0;36m<module>\u001b[1;34m\u001b[0m\n\u001b[1;32m----> 1\u001b[1;33m \u001b[1;33m(\u001b[0m\u001b[0mw1\u001b[0m\u001b[1;33m,\u001b[0m\u001b[0mbias\u001b[0m\u001b[1;33m,\u001b[0m\u001b[0mw2\u001b[0m\u001b[1;33m)\u001b[0m \u001b[1;33m=\u001b[0m \u001b[0mupdate_pesos\u001b[0m\u001b[1;33m(\u001b[0m\u001b[0mXe\u001b[0m\u001b[1;33m,\u001b[0m\u001b[0mYe\u001b[0m\u001b[1;33m,\u001b[0m\u001b[0mL\u001b[0m\u001b[1;33m,\u001b[0m\u001b[0mC\u001b[0m\u001b[1;33m)\u001b[0m\u001b[1;33m\u001b[0m\u001b[1;33m\u001b[0m\u001b[0m\n\u001b[0m",
      "\u001b[1;32m<ipython-input-222-97069bb84695>\u001b[0m in \u001b[0;36mupdate_pesos\u001b[1;34m(Xe, Ye, L, C)\u001b[0m\n\u001b[0;32m     29\u001b[0m     \u001b[0myh\u001b[0m\u001b[1;33m=\u001b[0m\u001b[0mYe\u001b[0m\u001b[1;33m*\u001b[0m\u001b[0mH\u001b[0m\u001b[1;33m\u001b[0m\u001b[1;33m\u001b[0m\u001b[0m\n\u001b[0;32m     30\u001b[0m     \u001b[0mprint\u001b[0m\u001b[1;33m(\u001b[0m\u001b[1;34m\"Ye es igual a: \"\u001b[0m\u001b[1;33m,\u001b[0m\u001b[0mYe\u001b[0m\u001b[1;33m.\u001b[0m\u001b[0mshape\u001b[0m\u001b[1;33m[\u001b[0m\u001b[1;36m0\u001b[0m\u001b[1;33m]\u001b[0m\u001b[1;33m)\u001b[0m\u001b[1;33m\u001b[0m\u001b[1;33m\u001b[0m\u001b[0m\n\u001b[1;32m---> 31\u001b[1;33m     \u001b[0mprint\u001b[0m\u001b[1;33m(\u001b[0m\u001b[1;34m\"H es igual a D: :\"\u001b[0m\u001b[1;33m,\u001b[0m\u001b[0mH\u001b[0m\u001b[1;33m.\u001b[0m\u001b[0mshape\u001b[0m\u001b[1;33m[\u001b[0m\u001b[1;36m0\u001b[0m\u001b[1;33m]\u001b[0m\u001b[1;33m,\u001b[0m \u001b[0mH\u001b[0m\u001b[1;33m.\u001b[0m\u001b[0mshape\u001b[0m\u001b[1;33m[\u001b[0m\u001b[1;36m1\u001b[0m\u001b[1;33m]\u001b[0m\u001b[1;33m)\u001b[0m\u001b[1;33m\u001b[0m\u001b[1;33m\u001b[0m\u001b[0m\n\u001b[0m\u001b[0;32m     32\u001b[0m     \u001b[0mhh\u001b[0m\u001b[1;33m=\u001b[0m\u001b[1;33m(\u001b[0m\u001b[0mH\u001b[0m\u001b[1;33m*\u001b[0m\u001b[0mnp\u001b[0m\u001b[1;33m.\u001b[0m\u001b[0mtranspose\u001b[0m\u001b[1;33m(\u001b[0m\u001b[0mH\u001b[0m\u001b[1;33m)\u001b[0m\u001b[1;33m)\u001b[0m\u001b[1;33m+\u001b[0m\u001b[0mnp\u001b[0m\u001b[1;33m.\u001b[0m\u001b[0meye\u001b[0m\u001b[1;33m(\u001b[0m\u001b[0mint\u001b[0m\u001b[1;33m(\u001b[0m\u001b[0mL\u001b[0m\u001b[1;33m)\u001b[0m\u001b[1;33m)\u001b[0m\u001b[1;33m/\u001b[0m\u001b[0mC\u001b[0m\u001b[1;33m\u001b[0m\u001b[1;33m\u001b[0m\u001b[0m\n\u001b[0;32m     33\u001b[0m     \u001b[0minv\u001b[0m\u001b[1;33m=\u001b[0m\u001b[0mnp\u001b[0m\u001b[1;33m.\u001b[0m\u001b[0mlinalg\u001b[0m\u001b[1;33m.\u001b[0m\u001b[0mpinv\u001b[0m\u001b[1;33m(\u001b[0m\u001b[0mhh\u001b[0m\u001b[1;33m)\u001b[0m\u001b[1;33m\u001b[0m\u001b[1;33m\u001b[0m\u001b[0m\n",
      "\u001b[1;31mIndexError\u001b[0m: tuple index out of range"
     ]
    }
   ],
   "source": [
    "(w1,bias,w2) = update_pesos(Xe,Ye,L,C)"
   ]
  },
  {
   "cell_type": "raw",
   "metadata": {},
   "source": []
  },
  {
   "cell_type": "code",
   "execution_count": null,
   "metadata": {},
   "outputs": [],
   "source": []
  },
  {
   "cell_type": "code",
   "execution_count": null,
   "metadata": {},
   "outputs": [],
   "source": []
  },
  {
   "cell_type": "code",
   "execution_count": null,
   "metadata": {},
   "outputs": [],
   "source": []
  }
 ],
 "metadata": {
  "kernelspec": {
   "display_name": "Python 3",
   "language": "python",
   "name": "python3"
  },
  "language_info": {
   "codemirror_mode": {
    "name": "ipython",
    "version": 3
   },
   "file_extension": ".py",
   "mimetype": "text/x-python",
   "name": "python",
   "nbconvert_exporter": "python",
   "pygments_lexer": "ipython3",
   "version": "3.8.3"
  }
 },
 "nbformat": 4,
 "nbformat_minor": 4
}

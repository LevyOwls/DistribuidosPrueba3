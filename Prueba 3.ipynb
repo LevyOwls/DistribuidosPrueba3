{
 "cells": [
  {
   "cell_type": "markdown",
   "metadata": {},
   "source": [
    "# Prueba 3, Sistemas distribuidos\n",
    "\n",
    "- Martin Toledo\n",
    "- Giselle Vasquez ♥\n",
    "\n"
   ]
  },
  {
   "cell_type": "code",
   "execution_count": 22,
   "metadata": {},
   "outputs": [],
   "source": [
    "##Cambio de datos\n",
    "##Data[1]\n",
    "data1 = ['tcp', 'udp', 'icmp']  \n",
    "data2 = ['ftp_data', 'other', 'private', 'http', 'remote_job', 'name', 'netbios_ns', 'eco_i', 'mtp', 'telnet', 'finger', 'domain_u', 'supdup', 'uucp_path', 'Z39_50', 'smtp', 'csnet_ns', 'uucp', 'netbios_dgm', 'urp_i', 'auth', 'domain', 'ftp', 'bgp', 'ldap', 'ecr_i', 'gopher', 'vmnet', 'systat', 'http_443', 'efs', 'whois', 'imap4', 'iso_tsap', 'echo', 'klogin', 'link', 'sunrpc', 'login', 'kshell', 'sql_net', 'time', 'hostnames', 'exec', 'ntp_u', 'discard', 'nntp', 'courier', 'ctf', 'ssh', 'daytime', 'shell', 'netstat', 'pop_3', 'nnsp', 'IRC', 'pop_2', 'printer', 'tim_i', 'pm_dump', 'red_i', 'netbios_ssn', 'rje', 'X11', 'urh_i', 'http_8001']\n",
    "data3 = ['SF', 'S0', 'REJ', 'RSTR', 'SH', 'RSTO', 'S1', 'RSTOS0', 'S3', 'S2', 'OTH']\n",
    "data41 = ['normal', 'neptune', 'warezclient', 'ipsweep', 'portsweep', 'teardrop', 'nmap', 'satan', 'smurf', 'pod', 'back', 'guess_passwd', 'ftp_write', 'multihop', 'rootkit', 'buffer_overflow', 'imap', 'warezmaster', 'phf', 'land', 'loadmodule', 'spy']\n",
    "\n",
    "def transform (data,lista):\n",
    "    contador=0\n",
    "    if lista == 1:    \n",
    "        for i in data1:\n",
    "            if str(i) == data:\n",
    "                return contador\n",
    "            contador+=1\n",
    "    if lista == 2:\n",
    "        for i in data2:\n",
    "            if str(i) == data:\n",
    "                return contador\n",
    "            contador+=1\n",
    "    if lista == 3:\n",
    "        for i in data3:\n",
    "            if str(i) == data:\n",
    "                return contador\n",
    "            contador+=1\n",
    "    if lista == 4:\n",
    "        for i in data41:\n",
    "            if str(i) == data:\n",
    "                return contador\n",
    "            contador+=1\n",
    "            \n",
    "            \n",
    "            "
   ]
  },
  {
   "cell_type": "code",
   "execution_count": 39,
   "metadata": {},
   "outputs": [
    {
     "name": "stdout",
     "output_type": "stream",
     "text": [
      "[['0' 'tcp' 'ftp_data' ... '0.00' 'normal' '20']\n",
      " ['0' 'udp' 'other' ... '0.00' 'normal' '15']\n",
      " ['0' 'tcp' 'private' ... '0.00' 'neptune' '19']\n",
      " ...\n",
      " ['0' 'tcp' 'private' ... '1.00' 'neptune' '21']\n",
      " ['0' 'tcp' 'nnsp' ... '0.00' 'neptune' '20']\n",
      " ['0' 'tcp' 'finger' ... '0.00' 'neptune' '18']]\n",
      "\n",
      "Datos ya procesados a numero  (float)\n"
     ]
    },
    {
     "ename": "TypeError",
     "evalue": "can only concatenate str (not \"int\") to str",
     "output_type": "error",
     "traceback": [
      "\u001b[1;31m---------------------------------------------------------------------------\u001b[0m",
      "\u001b[1;31mTypeError\u001b[0m                                 Traceback (most recent call last)",
      "\u001b[1;32m<ipython-input-39-42f017050877>\u001b[0m in \u001b[0;36m<module>\u001b[1;34m\u001b[0m\n\u001b[0;32m     26\u001b[0m \u001b[0mdatos\u001b[0m \u001b[1;33m=\u001b[0m \u001b[0mdatos\u001b[0m\u001b[1;33m.\u001b[0m\u001b[0mastype\u001b[0m\u001b[1;33m(\u001b[0m\u001b[0mnp\u001b[0m\u001b[1;33m.\u001b[0m\u001b[0mfloat\u001b[0m\u001b[1;33m)\u001b[0m\u001b[1;33m\u001b[0m\u001b[1;33m\u001b[0m\u001b[0m\n\u001b[0;32m     27\u001b[0m \u001b[0mprint\u001b[0m \u001b[1;33m(\u001b[0m\u001b[1;34m\"\\nDatos ya procesados a numero  (float)\"\u001b[0m\u001b[1;33m)\u001b[0m\u001b[1;33m\u001b[0m\u001b[1;33m\u001b[0m\u001b[0m\n\u001b[1;32m---> 28\u001b[1;33m \u001b[0mprint\u001b[0m \u001b[1;33m(\u001b[0m\u001b[0mstr\u001b[0m\u001b[1;33m(\u001b[0m\u001b[0mdatos\u001b[0m\u001b[1;33m)\u001b[0m\u001b[1;33m+\u001b[0m\u001b[1;34m\"   \"\u001b[0m\u001b[1;33m+\u001b[0m\u001b[0mlen\u001b[0m\u001b[1;33m(\u001b[0m\u001b[0mdatos\u001b[0m\u001b[1;33m)\u001b[0m\u001b[1;33m)\u001b[0m\u001b[1;33m\u001b[0m\u001b[1;33m\u001b[0m\u001b[0m\n\u001b[0m\u001b[0;32m     29\u001b[0m \u001b[1;33m\u001b[0m\u001b[0m\n\u001b[0;32m     30\u001b[0m \u001b[1;31m#////////////////////SEPARADOR////////////////////////////////////////\u001b[0m\u001b[1;33m\u001b[0m\u001b[1;33m\u001b[0m\u001b[1;33m\u001b[0m\u001b[0m\n",
      "\u001b[1;31mTypeError\u001b[0m: can only concatenate str (not \"int\") to str"
     ]
    }
   ],
   "source": [
    "import numpy as np\n",
    "\n",
    "path = 'train.txt'\n",
    "datos = np.loadtxt(path, delimiter=',',dtype='str')\n",
    "\n",
    "print(datos)\n",
    "palabras=[]\n",
    "\n",
    "#Se transforma todo a numeros enteros.\n",
    "for data in datos:\n",
    "    contador=0\n",
    "    for i in data:\n",
    "        \n",
    "        if contador == 1:\n",
    "            data[contador]=transform(str(i),1)\n",
    "        if contador == 2:\n",
    "            data[contador]=transform(str(i),2)\n",
    "        if contador == 3:\n",
    "            data[contador]=transform(str(i),3)\n",
    "        if contador == 41:\n",
    "            data[contador]=transform(str(i),4)\n",
    "        \n",
    "        #Actualiza el contador\n",
    "        contador+=1\n",
    "\n",
    "datos = datos.astype(np.float)\n",
    "print (\"\\nDatos ya procesados a numero  (float)\")\n",
    "print (str(datos)+\"   \"+len(datos))\n",
    "\n",
    "#////////////////////SEPARADOR////////////////////////////////////////"
   ]
  },
  {
   "cell_type": "code",
   "execution_count": null,
   "metadata": {},
   "outputs": [],
   "source": []
  }
 ],
 "metadata": {
  "kernelspec": {
   "display_name": "Python 3",
   "language": "python",
   "name": "python3"
  },
  "language_info": {
   "codemirror_mode": {
    "name": "ipython",
    "version": 3
   },
   "file_extension": ".py",
   "mimetype": "text/x-python",
   "name": "python",
   "nbconvert_exporter": "python",
   "pygments_lexer": "ipython3",
   "version": "3.8.3"
  }
 },
 "nbformat": 4,
 "nbformat_minor": 4
}

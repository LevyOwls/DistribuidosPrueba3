{
 "cells": [
  {
   "cell_type": "markdown",
   "metadata": {},
   "source": [
    "# Prueba 3, Sistemas distribuidos\n",
    "\n",
    "- Martin Toledo\n",
    "- Giselle Vasquez ♥\n",
    "\n"
   ]
  },
  {
   "cell_type": "code",
   "execution_count": 63,
   "metadata": {},
   "outputs": [
    {
     "ename": "SyntaxError",
     "evalue": "'break' outside loop (<ipython-input-63-f322a29a1bc1>, line 53)",
     "output_type": "error",
     "traceback": [
      "\u001b[1;36m  File \u001b[1;32m\"<ipython-input-63-f322a29a1bc1>\"\u001b[1;36m, line \u001b[1;32m53\u001b[0m\n\u001b[1;33m    break\u001b[0m\n\u001b[1;37m    ^\u001b[0m\n\u001b[1;31mSyntaxError\u001b[0m\u001b[1;31m:\u001b[0m 'break' outside loop\n"
     ]
    }
   ],
   "source": [
    "##Cambio de datos\n",
    "##Data[1]\n",
    "data1 = ['tcp', 'udp', 'icmp']  \n",
    "data2 = ['ftp_data', 'other', 'private', 'http', 'remote_job', 'name', 'netbios_ns', 'eco_i', 'mtp', 'telnet', 'finger', 'domain_u', 'supdup', 'uucp_path', 'Z39_50', 'smtp', 'csnet_ns', 'uucp', 'netbios_dgm', 'urp_i', 'auth', 'domain', 'ftp', 'bgp', 'ldap', 'ecr_i', 'gopher', 'vmnet', 'systat', 'http_443', 'efs', 'whois', 'imap4', 'iso_tsap', 'echo', 'klogin', 'link', 'sunrpc', 'login', 'kshell', 'sql_net', 'time', 'hostnames', 'exec', 'ntp_u', 'discard', 'nntp', 'courier', 'ctf', 'ssh', 'daytime', 'shell', 'netstat', 'pop_3', 'nnsp', 'IRC', 'pop_2', 'printer', 'tim_i', 'pm_dump', 'red_i', 'netbios_ssn', 'rje', 'X11', 'urh_i', 'http_8001']\n",
    "data3 = ['SF', 'S0', 'REJ', 'RSTR', 'SH', 'RSTO', 'S1', 'RSTOS0', 'S3', 'S2', 'OTH']\n",
    "data41 = ['normal', 'neptune', 'warezclient', 'ipsweep', 'portsweep', 'teardrop', 'nmap', 'satan', 'smurf', 'pod', 'back', 'guess_passwd', 'ftp_write', 'multihop', 'rootkit', 'buffer_overflow', 'imap', 'warezmaster', 'phf', 'land', 'loadmodule', 'spy']\n",
    "\n",
    "def transform (data,lista):\n",
    "    contador=0\n",
    "    if lista == 1:    \n",
    "        for i in data1:\n",
    "            if str(i) == data:\n",
    "                return contador+1\n",
    "            contador+=1\n",
    "    if lista == 2:\n",
    "        for i in data2:\n",
    "            if str(i) == data:\n",
    "                return contador+1\n",
    "            contador+=1\n",
    "    if lista == 3:\n",
    "        for i in data3:\n",
    "            if str(i) == data:\n",
    "                return contador+1\n",
    "            contador+=1\n",
    "    if lista == 4:\n",
    "        if str(data) != 'normal':\n",
    "            return -1\n",
    "        return 1\n",
    "            \n",
    "            \n",
    "\n"
   ]
  },
  {
   "cell_type": "code",
   "execution_count": 60,
   "metadata": {},
   "outputs": [
    {
     "name": "stdout",
     "output_type": "stream",
     "text": [
      "[['0' 'tcp' 'ftp_data' ... '0.00' 'normal' '20']\n",
      " ['0' 'udp' 'other' ... '0.00' 'normal' '15']\n",
      " ['0' 'tcp' 'private' ... '0.00' 'neptune' '19']\n",
      " ...\n",
      " ['0' 'tcp' 'private' ... '1.00' 'neptune' '21']\n",
      " ['0' 'tcp' 'nnsp' ... '0.00' 'neptune' '20']\n",
      " ['0' 'tcp' 'finger' ... '0.00' 'neptune' '18']]\n",
      "\n",
      "Datos ya procesados a numero  (float)\n",
      "[[ 0.  1.  1. ...  0.  1. 20.]\n",
      " [ 0.  2.  2. ...  0.  1. 15.]\n",
      " [ 0.  1.  3. ...  0. -1. 19.]\n",
      " ...\n",
      " [ 0.  1.  3. ...  1. -1. 21.]\n",
      " [ 0.  1. 55. ...  0. -1. 20.]\n",
      " [ 0.  1. 11. ...  0. -1. 18.]]   25192\n"
     ]
    }
   ],
   "source": [
    "import numpy as np\n",
    "\n",
    "path = 'KDDTrain+_20Percent.txt'\n",
    "datos = np.loadtxt(path, delimiter=',',dtype='str')\n",
    "\n",
    "print(datos)\n",
    "palabras=[]\n",
    "\n",
    "#Se transforma todo a numeros enteros.\n",
    "for data in datos:\n",
    "    contador=0\n",
    "    \n",
    "    for i in data:\n",
    "        \n",
    "        if contador == 1:\n",
    "            data[contador]=transform(str(i),1)\n",
    "        if contador == 2:\n",
    "            data[contador]=transform(str(i),2)\n",
    "        if contador == 3:\n",
    "            data[contador]=transform(str(i),3)\n",
    "        if contador == 41:\n",
    "            data[contador]=transform(str(i),4)\n",
    "        #Actualiza el contador\n",
    "        contador+=1\n",
    "\n",
    "datos = datos.astype(np.float)\n",
    "print (\"\\nDatos ya procesados a numero  (float)\")\n",
    "print (str(datos)+\"   \"+str(len(datos)))\n",
    "\n",
    "#########################SEPARADOR##################################################\n",
    "\n",
    "#No se normalizar\n",
    "\n",
    "#########################SEPARADOR##################################################\n",
    "#Se escribe el archivo nuevo\n",
    "np.savetxt('train.txt', datos, delimiter=',')"
   ]
  },
  {
   "cell_type": "code",
   "execution_count": 67,
   "metadata": {},
   "outputs": [
    {
     "name": "stdout",
     "output_type": "stream",
     "text": [
      "\n",
      "\n",
      "['0' '1' '1' '1' '491' '0' '0' '0' '0' '0' '0' '0' '0' '0' '0' '0' '0' '0'\n",
      " '0' '0' '0' '0' '2' '2' '0.00' '0.00' '0.00' '0.00' '1.00' '0.00' '0.00'\n",
      " '150' '25' '0.17' '0.03' '0.17' '0.00' '0.00' '0.00' '0.05' '0.00' '1'\n",
      " '20']\n"
     ]
    },
    {
     "ename": "ValueError",
     "evalue": "could not convert string to float: 'neptune'",
     "output_type": "error",
     "traceback": [
      "\u001b[1;31m---------------------------------------------------------------------------\u001b[0m",
      "\u001b[1;31mValueError\u001b[0m                                Traceback (most recent call last)",
      "\u001b[1;32m<ipython-input-67-67c694fedbc2>\u001b[0m in \u001b[0;36m<module>\u001b[1;34m\u001b[0m\n\u001b[1;32m----> 1\u001b[1;33m \u001b[0mto_formato\u001b[0m\u001b[1;33m(\u001b[0m\u001b[1;34m\"KDDTrain+_20Percent.txt\"\u001b[0m\u001b[1;33m,\u001b[0m\u001b[1;34m\"train\"\u001b[0m\u001b[1;33m)\u001b[0m\u001b[1;33m\u001b[0m\u001b[1;33m\u001b[0m\u001b[0m\n\u001b[0m\u001b[0;32m      2\u001b[0m \u001b[0mto_formato\u001b[0m\u001b[1;33m(\u001b[0m\u001b[1;34m\"KDDTest+.txt\"\u001b[0m\u001b[1;33m,\u001b[0m\u001b[1;34m\"test\"\u001b[0m\u001b[1;33m)\u001b[0m\u001b[1;33m\u001b[0m\u001b[1;33m\u001b[0m\u001b[0m\n",
      "\u001b[1;32m<ipython-input-66-ae49ef3e6dd0>\u001b[0m in \u001b[0;36mto_formato\u001b[1;34m(path, outputName)\u001b[0m\n\u001b[0;32m     21\u001b[0m         \u001b[0mprint\u001b[0m\u001b[1;33m(\u001b[0m\u001b[0mdata\u001b[0m\u001b[1;33m)\u001b[0m\u001b[1;33m\u001b[0m\u001b[1;33m\u001b[0m\u001b[0m\n\u001b[0;32m     22\u001b[0m         \u001b[1;32mbreak\u001b[0m\u001b[1;33m\u001b[0m\u001b[1;33m\u001b[0m\u001b[0m\n\u001b[1;32m---> 23\u001b[1;33m     \u001b[0mdatos\u001b[0m \u001b[1;33m=\u001b[0m \u001b[0mdatos\u001b[0m\u001b[1;33m.\u001b[0m\u001b[0mastype\u001b[0m\u001b[1;33m(\u001b[0m\u001b[0mnp\u001b[0m\u001b[1;33m.\u001b[0m\u001b[0mfloat\u001b[0m\u001b[1;33m)\u001b[0m\u001b[1;33m\u001b[0m\u001b[1;33m\u001b[0m\u001b[0m\n\u001b[0m\u001b[0;32m     24\u001b[0m \u001b[1;33m\u001b[0m\u001b[0m\n\u001b[0;32m     25\u001b[0m     \u001b[1;31m#########################SEPARADOR##################################################\u001b[0m\u001b[1;33m\u001b[0m\u001b[1;33m\u001b[0m\u001b[1;33m\u001b[0m\u001b[0m\n",
      "\u001b[1;31mValueError\u001b[0m: could not convert string to float: 'neptune'"
     ]
    }
   ],
   "source": []
  },
  {
   "cell_type": "code",
   "execution_count": 74,
   "metadata": {},
   "outputs": [
    {
     "name": "stdout",
     "output_type": "stream",
     "text": [
      "\n",
      "\n",
      "izi\n",
      "\n",
      "\n"
     ]
    },
    {
     "ename": "ValueError",
     "evalue": "could not convert string to float: 'None'",
     "output_type": "error",
     "traceback": [
      "\u001b[1;31m---------------------------------------------------------------------------\u001b[0m",
      "\u001b[1;31mValueError\u001b[0m                                Traceback (most recent call last)",
      "\u001b[1;32m<ipython-input-74-8a88193918d8>\u001b[0m in \u001b[0;36m<module>\u001b[1;34m\u001b[0m\n\u001b[0;32m     32\u001b[0m \u001b[1;31m#\u001b[0m\u001b[1;33m\u001b[0m\u001b[1;33m\u001b[0m\u001b[1;33m\u001b[0m\u001b[0m\n\u001b[0;32m     33\u001b[0m \u001b[0mprint\u001b[0m\u001b[1;33m(\u001b[0m\u001b[1;34m\"izi\"\u001b[0m\u001b[1;33m)\u001b[0m\u001b[1;33m\u001b[0m\u001b[1;33m\u001b[0m\u001b[0m\n\u001b[1;32m---> 34\u001b[1;33m \u001b[0mto_formato\u001b[0m\u001b[1;33m(\u001b[0m\u001b[1;34m\"KDDTest+.txt\"\u001b[0m\u001b[1;33m,\u001b[0m\u001b[1;34m\"test.txt\"\u001b[0m\u001b[1;33m)\u001b[0m\u001b[1;33m\u001b[0m\u001b[1;33m\u001b[0m\u001b[0m\n\u001b[0m",
      "\u001b[1;32m<ipython-input-74-8a88193918d8>\u001b[0m in \u001b[0;36mto_formato\u001b[1;34m(path, outputName)\u001b[0m\n\u001b[0;32m     19\u001b[0m             \u001b[1;31m#Actualiza el contador\u001b[0m\u001b[1;33m\u001b[0m\u001b[1;33m\u001b[0m\u001b[1;33m\u001b[0m\u001b[0m\n\u001b[0;32m     20\u001b[0m             \u001b[0mcontador\u001b[0m\u001b[1;33m+=\u001b[0m\u001b[1;36m1\u001b[0m\u001b[1;33m\u001b[0m\u001b[1;33m\u001b[0m\u001b[0m\n\u001b[1;32m---> 21\u001b[1;33m     \u001b[0mdatos\u001b[0m \u001b[1;33m=\u001b[0m \u001b[0mdatos\u001b[0m\u001b[1;33m.\u001b[0m\u001b[0mastype\u001b[0m\u001b[1;33m(\u001b[0m\u001b[0mnp\u001b[0m\u001b[1;33m.\u001b[0m\u001b[0mfloat\u001b[0m\u001b[1;33m)\u001b[0m\u001b[1;33m\u001b[0m\u001b[1;33m\u001b[0m\u001b[0m\n\u001b[0m\u001b[0;32m     22\u001b[0m \u001b[1;33m\u001b[0m\u001b[0m\n\u001b[0;32m     23\u001b[0m     \u001b[1;31m#########################SEPARADOR##################################################\u001b[0m\u001b[1;33m\u001b[0m\u001b[1;33m\u001b[0m\u001b[1;33m\u001b[0m\u001b[0m\n",
      "\u001b[1;31mValueError\u001b[0m: could not convert string to float: 'None'"
     ]
    }
   ],
   "source": [
    "def to_formato(path,outputName):\n",
    "    datos = np.loadtxt(path, delimiter=',',dtype='str')\n",
    "    print()\n",
    "    print()\n",
    "  \n",
    "    for data in datos:\n",
    "        contador=0\n",
    "\n",
    "        for i in data:\n",
    "\n",
    "            if contador == 1:\n",
    "                data[contador]=transform(str(i),1)\n",
    "            if contador == 2:\n",
    "                data[contador]=transform(str(i),2)\n",
    "            if contador == 3:\n",
    "                data[contador]=transform(str(i),3)\n",
    "            if contador == 41:\n",
    "                data[contador]=transform(str(i),4)\n",
    "            #Actualiza el contador\n",
    "            contador+=1\n",
    "   \n",
    "    datos = datos.astype(np.float)\n",
    "    #########################SEPARADOR##################################################\n",
    "\n",
    "    #No se normalizar\n",
    "\n",
    "    #########################SEPARADOR##################################################\n",
    "    #Se escribe el archivo nuevo\n",
    "    np.savetxt(outputName, datos, delimiter=',')\n",
    "    \n",
    "to_formato(\"KDDTrain+_20Percent.txt\",\"train.txt\")\n",
    "#\n",
    "print(\"izi\")\n",
    "to_formato(\"KDDTest+.txt\",\"test.txt\")"
   ]
  },
  {
   "cell_type": "code",
   "execution_count": null,
   "metadata": {},
   "outputs": [],
   "source": []
  }
 ],
 "metadata": {
  "kernelspec": {
   "display_name": "Python 3",
   "language": "python",
   "name": "python3"
  },
  "language_info": {
   "codemirror_mode": {
    "name": "ipython",
    "version": 3
   },
   "file_extension": ".py",
   "mimetype": "text/x-python",
   "name": "python",
   "nbconvert_exporter": "python",
   "pygments_lexer": "ipython3",
   "version": "3.8.3"
  }
 },
 "nbformat": 4,
 "nbformat_minor": 4
}
